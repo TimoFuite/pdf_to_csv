{
 "cells": [
  {
   "cell_type": "code",
   "execution_count": 7,
   "metadata": {},
   "outputs": [],
   "source": [
    "import openai\n",
    "from openai import OpenAI\n",
    "import PyPDF2\n",
    "import pandas as pd\n",
    "import json\n",
    "\n",
    "# Api key\n",
    "client_openai = OpenAI(api_key = 'API KEY HERE')\n",
    "\n",
    "# Read the CSV\n",
    "df = pd.read_csv('FILE PATH OF CSV HERE')"
   ]
  },
  {
   "cell_type": "code",
   "execution_count": 8,
   "metadata": {},
   "outputs": [],
   "source": [
    "def extract_text_from_pdf(pdf_file):\n",
    "    reader = PyPDF2.PdfReader(pdf_file)\n",
    "    text = ''\n",
    "    for page in reader.pages:\n",
    "        text += page.extract_text()\n",
    "    return text\n",
    "\n",
    "# for production change to input\n",
    "pdf_filename = \"PDF FILE HERE\"\n",
    "order_text = extract_text_from_pdf(pdf_filename)"
   ]
  },
  {
   "cell_type": "code",
   "execution_count": null,
   "metadata": {},
   "outputs": [],
   "source": [
    "response = client_openai.beta.chat.completions.parse(\n",
    "    model=\"gpt-4o-mini\",\n",
    "    messages=[\n",
    "        {\n",
    "            \"role\": \"system\",\n",
    "            \"content\": (\n",
    "                \"1: Your task is to convert an incoming text string into a clear Python dictionary within a list.\"\n",
    "                \"2: search for the following features while doing so:\"\n",
    "                \"product_name,article_number,quantity,unit_of_measure,unit_price,expected_arrival\"\n",
    "                \"3: you must return the values in that order\"\n",
    "                \"4: then add them to a dictionary with the name as the key, and the feature you found for the key as a value.\"\n",
    "                \"5: VERY IMPORTANT, do not say anything else in your response, you must limit yourself to just sending the dictionaries within a list\"\n",
    "                \"6: VERY IMPORTANT the output should be a list with JSON formatting, that doesnt mean you should add ```json at the beginning and end\"\n",
    "                \"7: If you see a dot inbetween a number for quantity, example: 1.000.000, then that means 1,000,000 quantity. change it to be a comma instead\"\n",
    "                \"8: when taking the unit price, make sure to add the euro symbol upfront for example: €10,00\"\n",
    "            )\n",
    "        },\n",
    "\n",
    "        {\"role\": \"user\", \"content\": f\"The following is the text you need to search for these values:\\n{order_text}\"}\n",
    "    ]\n",
    ")\n",
    "\n",
    "response_content = response.choices[0].message.content"
   ]
  },
  {
   "cell_type": "code",
   "execution_count": null,
   "metadata": {},
   "outputs": [],
   "source": [
    "new_rows = json.loads(response_content)\n",
    "new_rows_df = pd.DataFrame(new_rows)\n",
    "df = pd.concat([df, new_rows_df], ignore_index=True)\n",
    "df.to_csv('FILE PATH OF CSV HERE', index=False)"
   ]
  }
 ],
 "metadata": {
  "kernelspec": {
   "display_name": "librpyn",
   "language": "python",
   "name": "python3"
  },
  "language_info": {
   "codemirror_mode": {
    "name": "ipython",
    "version": 3
   },
   "file_extension": ".py",
   "mimetype": "text/x-python",
   "name": "python",
   "nbconvert_exporter": "python",
   "pygments_lexer": "ipython3",
   "version": "3.9.18"
  }
 },
 "nbformat": 4,
 "nbformat_minor": 2
}
